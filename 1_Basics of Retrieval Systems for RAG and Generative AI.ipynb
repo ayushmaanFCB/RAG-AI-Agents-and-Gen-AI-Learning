{
 "cells": [
  {
   "cell_type": "markdown",
   "metadata": {},
   "source": [
    "# Basics of Retrieval Systems for RAG and Generative AI\n",
    "\n",
    "**Topics Covereed:**\n",
    "- Tokenization and Preprocessing\n",
    "- TF-IDF\n",
    "- Boolean Search\n",
    "- Probabilistic Retrieval"
   ]
  },
  {
   "cell_type": "markdown",
   "metadata": {},
   "source": [
    "### Libraries and Data\n",
    "\n",
    "- Sample documents about sailing in Croatia"
   ]
  },
  {
   "cell_type": "code",
   "execution_count": 1,
   "metadata": {},
   "outputs": [],
   "source": [
    "documents = ['Sailing in Croatia often includes visiting UNESCO World Heritage sites.',\n",
    " 'The Makarska Riviera is known for its stunning coastline and sailing opportunities.',\n",
    " 'Sailing in Croatia offers stunning views of the Adriatic Sea.',\n",
    " \"The city of Sibenik is home to the impressive St. James's Cathedral, a UNESCO World Heritage site.\",\n",
    " 'The island of Brač is known for its beautiful beaches and great sailing conditions.',\n",
    " 'Sailing to the island of Rab, known for its medieval old town, is a great experience.',\n",
    " 'The Pakleni Islands near Hvar are a popular spot for sailing yachts.',\n",
    " 'The island of Cres is one of the largest in Croatia and a great destination for sailing.',\n",
    " 'The island of Cres is one of the largest in Croatia and has a diverse wildlife.',\n",
    " 'The city of Zagreb is the capital of Croatia and offers a mix of modern and historic attractions.',\n",
    " 'Sailors can experience the traditional Dalmatian way of life in many coastal villages.',\n",
    " 'The city of Knin is known for its historic fortress and beautiful scenery.',\n",
    " 'The island of Krk is the largest island in the Adriatic Sea.',\n",
    " 'Croatia has a rich history dating back to the Roman Empire.',\n",
    " 'The island of Hvar is a popular destination for celebrities and high-end travelers.',\n",
    " 'The city of Varazdin is known for its baroque buildings and vibrant cultural scene.',\n",
    " 'Sailors can enjoy fresh seafood at many coastal restaurants in Croatia.',\n",
    " 'The coastal town of Senj is known for its carnival and Nehaj Fortress.',\n",
    " 'The Dalmatian Coast is a famous region for sailing in Croatia.',\n",
    " \"The Diocletian's Palace in Split is one of the most famous Roman ruins in Croatia.\",\n",
    " 'The island of Dugi Otok is known for its dramatic cliffs and beautiful sailing waters.',\n",
    " 'The island of Rab is famous for its medieval old town and stunning beaches.',\n",
    " 'The island of Mljet is home to a national park and is ideal for nature lovers.',\n",
    " 'Sailors in Croatia can visit ancient Roman ruins in Split.',\n",
    " 'The city of Kotor, just across the border in Montenegro, is a popular extension for Croatian sailing trips.',\n",
    " 'The island of Korcula is believed to be the birthplace of Marco Polo.',\n",
    " 'The town of Motovun in Istria is famous for its film festival.',\n",
    " 'The city of Nin is known for its ancient salt pans and historic church.',\n",
    " 'The city of Vukovar is known for its role in the Croatian War of Independence.',\n",
    " 'Sailing to the island of Lošinj, known for its health tourism, is a relaxing experience.',\n",
    " 'The island of Hvar is known for its vibrant nightlife and sailing opportunities.',\n",
    " 'The island of Korčula is believed to be the birthplace of Marco Polo and is a popular sailing destination.',\n",
    " 'Sailing in Croatia often involves stopping at picturesque fishing villages.',\n",
    " 'The city of Opatija is known for its grand villas and seaside promenade.',\n",
    " 'The city of Porec is known for the Euphrasian Basilica, a UNESCO World Heritage site.',\n",
    " 'The island of Brac is home to the famous Zlatni Rat beach, known for its changing shape.',\n",
    " 'Sailing around the island of Mljet offers a peaceful and scenic experience.',\n",
    " 'The Blue Cave on Biševo Island is a must-see for sailors.',\n",
    " 'The island of Pag is famous for its cheese and nightlife, and is a fun stop for sailors.',\n",
    " \"The island of Lastovo is one of Croatia's most remote and tranquil destinations.\",\n",
    " 'Sailors can enjoy snorkeling in the clear waters of the Adriatic Sea.',\n",
    " 'The city of Rovinj is a charming starting point for a sailing trip in Croatia.',\n",
    " \"Croatia's national parks, like Krka and Plitvice, are ideal for hiking and nature lovers.\",\n",
    " 'The city of Zadar is famous for its sunsets, which sailors can enjoy from the sea.',\n",
    " 'Croatia has over a thousand islands, each with its unique charm.',\n",
    " \"Croatia's Adriatic coast is dotted with charming fishing villages.\",\n",
    " 'Sailing to the island of Šolta offers a quiet escape from the more touristy areas.',\n",
    " 'Sailors in Croatia can explore over 1,200 islands.',\n",
    " 'Sailing in Croatia provides opportunities to visit ancient fortresses and castles along the coast.',\n",
    " 'Croatia is famous for its beautiful coastline and crystal-clear waters.',\n",
    " 'The island of Krk is accessible by bridge and is a popular starting point for sailing trips.',\n",
    " 'Sailing in Croatia is best enjoyed during the summer months.',\n",
    " 'The island of Pag is famous for its cheese, which is considered a delicacy.',\n",
    " 'The medieval town of Rovinj is one of the most picturesque places in Croatia.',\n",
    " 'The island of Losinj is famous for its health tourism and clean air.',\n",
    " 'The city of Dubrovnik, with its famous city walls, is a top destination for sailors.',\n",
    " 'Croatia has beautiful islands perfect for sailing.',\n",
    " 'Sailing in Croatia allows you to explore hidden coves and bays.',\n",
    " 'The city of Rijeka is an important cultural and economic center in Croatia.',\n",
    " 'The island of Mljet has a national park that is perfect for exploring by sailboat.',\n",
    " 'The Istrian Peninsula is famous for its truffles and gourmet food.',\n",
    " 'The town of Cavtat is a quieter alternative to nearby Dubrovnik.',\n",
    " 'The Peljesac Peninsula is known for its vineyards and wine production.',\n",
    " 'The Dubrovnik Summer Festival is a major cultural event featuring theater, music, and dance performances.',\n",
    " 'The city of Zadar is famous for its unique Sea Organ, an architectural sound art object.',\n",
    " 'The beaches in Croatia are among the best in Europe, with many receiving Blue Flag status.',\n",
    " 'Sailing around the island of Murter gives access to the Kornati Islands National Park.',\n",
    " 'The city of Trogir, with its historic architecture, is a great place to dock.',\n",
    " 'Sailing from Split to Dubrovnik offers breathtaking coastal scenery.',\n",
    " 'The Plitvice Lakes National Park is a UNESCO World Heritage site known for its stunning waterfalls and lakes.',\n",
    " 'The city of Hvar is one of the sunniest places in Europe and a popular sailing hub.',\n",
    " \"The city of Dubrovnik is often called the 'Pearl of the Adriatic'.\",\n",
    " 'The city of Osijek is located in the eastern part of Croatia and is known for its Baroque style.',\n",
    " 'The city of Pula, with its Roman amphitheater, is a unique sailing destination.',\n",
    " 'The town of Trogir is a UNESCO World Heritage site known for its medieval architecture.',\n",
    " 'Sailors in Croatia can enjoy local wines at many coastal vineyards.',\n",
    " 'Croatia has a Mediterranean climate, making it a great destination year-round.',\n",
    " 'Croatia has a diverse cultural heritage, with influences from Italy, Hungary, and Austria.',\n",
    " 'The city of Rijeka is an important cultural and historical sailing destination.',\n",
    " 'The best sailing routes in Croatia include Dubrovnik and Split.',\n",
    " 'The Brijuni Islands are a national park and a former presidential retreat.',\n",
    " 'Sailing to the Elaphiti Islands offers a mix of natural beauty and cultural sites.',\n",
    " 'Croatia is known for its delicious seafood cuisine.',\n",
    " 'The ancient city of Pula is known for its well-preserved Roman amphitheater.',\n",
    " 'The city of Opatija is a historical seaside resort that welcomes sailors.',\n",
    " 'The waters around Croatia are known for being calm and clear, ideal for sailing.',\n",
    " 'The Kornati Islands National Park is a popular sailing destination in Croatia.',\n",
    " \"Sailing around the Brijuni Islands offers a glimpse of Croatia's natural beauty and wildlife.\",\n",
    " 'The island of Vis was a military base and was closed to tourism until the 1990s.',\n",
    " 'The city of Split is a major port and gateway to the Dalmatian islands.',\n",
    " 'Sailing to the island of Vis provides access to the famous Blue Cave.',\n",
    " \"The city of Buzet in Istria is known as the 'City of Truffles'.\",\n",
    " 'The city of Karlovac is known for its parks and the rivers that flow through it.',\n",
    " 'Sailing to the island of Vis allows you to experience a more remote part of Croatia.',\n",
    " 'The city of Šibenik is a UNESCO World Heritage site and a great stop for sailors.',\n",
    " \"The town of Samobor is famous for its traditional cream cake called 'kremsnita'.\",\n",
    " 'Sailing around the island of Lastovo provides a more secluded experience.',\n",
    " \"Croatia's wine regions produce some excellent wines, especially in Istria and Dalmatia.\",\n",
    " 'Many sailors start their Croatian adventure from the city of Zadar.',\n",
    " 'The coastal town of Makarska is known for its beautiful beaches and lively nightlife.']"
   ]
  },
  {
   "cell_type": "markdown",
   "metadata": {},
   "source": [
    "- Loading the Libraries"
   ]
  },
  {
   "cell_type": "code",
   "execution_count": 2,
   "metadata": {},
   "outputs": [
    {
     "name": "stderr",
     "output_type": "stream",
     "text": [
      "[nltk_data] Downloading package punkt to C:\\Users\\Asus\n",
      "[nltk_data]     vivobook\\AppData\\Roaming\\nltk_data...\n",
      "[nltk_data]   Package punkt is already up-to-date!\n"
     ]
    },
    {
     "data": {
      "text/plain": [
       "True"
      ]
     },
     "execution_count": 2,
     "metadata": {},
     "output_type": "execute_result"
    }
   ],
   "source": [
    "import nltk\n",
    "from sklearn.feature_extraction.text import TfidfVectorizer\n",
    "import numpy as np\n",
    "\n",
    "nltk.download('punkt')"
   ]
  },
  {
   "cell_type": "markdown",
   "metadata": {},
   "source": [
    "<hr>\n",
    "\n",
    "### Tokenization"
   ]
  },
  {
   "cell_type": "code",
   "execution_count": 3,
   "metadata": {},
   "outputs": [],
   "source": [
    "# Sample Text\n",
    "text = \"The city of Šibenik is a UNESCO World Heritage site and a great stop for sailors. Sailing around the Brijuni Islands offers a glimpse of Croatia's natural beauty and wildlife.\""
   ]
  },
  {
   "cell_type": "markdown",
   "metadata": {},
   "source": [
    "- Tokenize into sentences"
   ]
  },
  {
   "cell_type": "code",
   "execution_count": 4,
   "metadata": {},
   "outputs": [
    {
     "name": "stdout",
     "output_type": "stream",
     "text": [
      "['The city of Šibenik is a UNESCO World Heritage site and a great stop for sailors.', \"Sailing around the Brijuni Islands offers a glimpse of Croatia's natural beauty and wildlife.\"]\n"
     ]
    }
   ],
   "source": [
    "sentences = nltk.sent_tokenize(text)\n",
    "print(sentences)"
   ]
  },
  {
   "cell_type": "markdown",
   "metadata": {},
   "source": [
    "- Tokenize into words"
   ]
  },
  {
   "cell_type": "code",
   "execution_count": 5,
   "metadata": {},
   "outputs": [
    {
     "name": "stdout",
     "output_type": "stream",
     "text": [
      "['The', 'city', 'of', 'Šibenik', 'is', 'a', 'UNESCO', 'World', 'Heritage', 'site', 'and', 'a', 'great', 'stop', 'for', 'sailors', '.', 'Sailing', 'around', 'the', 'Brijuni', 'Islands', 'offers', 'a', 'glimpse', 'of', 'Croatia', \"'s\", 'natural', 'beauty', 'and', 'wildlife', '.']\n"
     ]
    }
   ],
   "source": [
    "words = nltk.word_tokenize(text)\n",
    "print(words)"
   ]
  },
  {
   "cell_type": "markdown",
   "metadata": {},
   "source": [
    "<hr>\n",
    "\n",
    "### Preprocessing"
   ]
  },
  {
   "cell_type": "code",
   "execution_count": 6,
   "metadata": {},
   "outputs": [
    {
     "name": "stderr",
     "output_type": "stream",
     "text": [
      "[nltk_data] Downloading package stopwords to C:\\Users\\Asus\n",
      "[nltk_data]     vivobook\\AppData\\Roaming\\nltk_data...\n",
      "[nltk_data]   Package stopwords is already up-to-date!\n"
     ]
    },
    {
     "name": "stdout",
     "output_type": "stream",
     "text": [
      "STOPWORDS:  ['i', 'me', 'my', 'myself', 'we', 'our', 'ours', 'ourselves', 'you', \"you're\", \"you've\", \"you'll\", \"you'd\", 'your', 'yours', 'yourself', 'yourselves', 'he', 'him', 'his', 'himself', 'she', \"she's\", 'her', 'hers', 'herself', 'it', \"it's\", 'its', 'itself', 'they', 'them', 'their', 'theirs', 'themselves', 'what', 'which', 'who', 'whom', 'this', 'that', \"that'll\", 'these', 'those', 'am', 'is', 'are', 'was', 'were', 'be', 'been', 'being', 'have', 'has', 'had', 'having', 'do', 'does', 'did', 'doing', 'a', 'an', 'the', 'and', 'but', 'if', 'or', 'because', 'as', 'until', 'while', 'of', 'at', 'by', 'for', 'with', 'about', 'against', 'between', 'into', 'through', 'during', 'before', 'after', 'above', 'below', 'to', 'from', 'up', 'down', 'in', 'out', 'on', 'off', 'over', 'under', 'again', 'further', 'then', 'once', 'here', 'there', 'when', 'where', 'why', 'how', 'all', 'any', 'both', 'each', 'few', 'more', 'most', 'other', 'some', 'such', 'no', 'nor', 'not', 'only', 'own', 'same', 'so', 'than', 'too', 'very', 's', 't', 'can', 'will', 'just', 'don', \"don't\", 'should', \"should've\", 'now', 'd', 'll', 'm', 'o', 're', 've', 'y', 'ain', 'aren', \"aren't\", 'couldn', \"couldn't\", 'didn', \"didn't\", 'doesn', \"doesn't\", 'hadn', \"hadn't\", 'hasn', \"hasn't\", 'haven', \"haven't\", 'isn', \"isn't\", 'ma', 'mightn', \"mightn't\", 'mustn', \"mustn't\", 'needn', \"needn't\", 'shan', \"shan't\", 'shouldn', \"shouldn't\", 'wasn', \"wasn't\", 'weren', \"weren't\", 'won', \"won't\", 'wouldn', \"wouldn't\"]\n"
     ]
    }
   ],
   "source": [
    "# Common words that specifically do not affect the query\n",
    "nltk.download(\"stopwords\")\n",
    "\n",
    "print(\"STOPWORDS: \", nltk.corpus.stopwords.words(\"english\"))"
   ]
  },
  {
   "cell_type": "markdown",
   "metadata": {},
   "source": [
    "- Converting to lower case and tokenizing words"
   ]
  },
  {
   "cell_type": "code",
   "execution_count": 7,
   "metadata": {},
   "outputs": [
    {
     "name": "stdout",
     "output_type": "stream",
     "text": [
      "['the', 'city', 'of', 'šibenik', 'is', 'a', 'unesco', 'world', 'heritage', 'site', 'and', 'a', 'great', 'stop', 'for', 'sailors', '.', 'sailing', 'around', 'the', 'brijuni', 'islands', 'offers', 'a', 'glimpse', 'of', 'croatia', \"'s\", 'natural', 'beauty', 'and', 'wildlife', '.']\n"
     ]
    }
   ],
   "source": [
    "processed_text = text.lower()\n",
    "\n",
    "processed_text = nltk.word_tokenize(processed_text)\n",
    "\n",
    "print(processed_text)"
   ]
  },
  {
   "cell_type": "markdown",
   "metadata": {},
   "source": [
    "- Removing special characters and symbols"
   ]
  },
  {
   "cell_type": "code",
   "execution_count": 8,
   "metadata": {},
   "outputs": [
    {
     "name": "stdout",
     "output_type": "stream",
     "text": [
      "['the', 'city', 'of', 'šibenik', 'is', 'a', 'unesco', 'world', 'heritage', 'site', 'and', 'a', 'great', 'stop', 'for', 'sailors', 'sailing', 'around', 'the', 'brijuni', 'islands', 'offers', 'a', 'glimpse', 'of', 'croatia', 'natural', 'beauty', 'and', 'wildlife']\n"
     ]
    }
   ],
   "source": [
    "processed_text = [word for word in processed_text if word.isalnum()]\n",
    "print(processed_text)"
   ]
  },
  {
   "cell_type": "markdown",
   "metadata": {},
   "source": [
    "- Removing Stopwords"
   ]
  },
  {
   "cell_type": "code",
   "execution_count": 9,
   "metadata": {},
   "outputs": [
    {
     "name": "stdout",
     "output_type": "stream",
     "text": [
      "['city', 'šibenik', 'unesco', 'world', 'heritage', 'site', 'great', 'stop', 'sailors', 'sailing', 'around', 'brijuni', 'islands', 'offers', 'glimpse', 'croatia', 'natural', 'beauty', 'wildlife']\n"
     ]
    }
   ],
   "source": [
    "processed_text = [word for word in processed_text if word not in list(nltk.corpus.stopwords.words(\"english\"))]\n",
    "print(processed_text)"
   ]
  },
  {
   "cell_type": "markdown",
   "metadata": {},
   "source": [
    "- Creating a function and applying it to our documents"
   ]
  },
  {
   "cell_type": "code",
   "execution_count": 10,
   "metadata": {},
   "outputs": [],
   "source": [
    "def process_text(text):\n",
    "    processed_text = text.lower()\n",
    "    processed_text = nltk.word_tokenize(processed_text)\n",
    "    processed_text = [word for word in processed_text if word.isalnum()]\n",
    "    processed_text = [word for word in processed_text if word not in list(nltk.corpus.stopwords.words(\"english\"))]\n",
    "    return processed_text"
   ]
  },
  {
   "cell_type": "code",
   "execution_count": 11,
   "metadata": {},
   "outputs": [
    {
     "name": "stdout",
     "output_type": "stream",
     "text": [
      "BEFORE PRE-PROCESSING:  Sailors can experience the traditional Dalmatian way of life in many coastal villages.\n",
      "AFTER PRE-PROCESSING:  sailors experience traditional dalmatian way life many coastal villages\n"
     ]
    }
   ],
   "source": [
    "processed_docs = [\" \".join(process_text(doc))for doc in documents]\n",
    "\n",
    "# Seeing the Difference:\n",
    "print(\"BEFORE PRE-PROCESSING: \", documents[10])\n",
    "print(\"AFTER PRE-PROCESSING: \", processed_docs[10])"
   ]
  },
  {
   "cell_type": "markdown",
   "metadata": {},
   "source": [
    "<hr>\n",
    "\n",
    "### TF-IDF (Term Frequency - Inverse Document Frequency)"
   ]
  },
  {
   "cell_type": "markdown",
   "metadata": {},
   "source": [
    "- Indexing the Document"
   ]
  },
  {
   "cell_type": "code",
   "execution_count": 12,
   "metadata": {},
   "outputs": [
    {
     "data": {
      "text/plain": [
       "array([[0., 0., 0., ..., 0., 0., 0.],\n",
       "       [0., 0., 0., ..., 0., 0., 0.],\n",
       "       [0., 0., 0., ..., 0., 0., 0.],\n",
       "       ...,\n",
       "       [0., 0., 0., ..., 0., 0., 0.],\n",
       "       [0., 0., 0., ..., 0., 0., 0.],\n",
       "       [0., 0., 0., ..., 0., 0., 0.]])"
      ]
     },
     "execution_count": 12,
     "metadata": {},
     "output_type": "execute_result"
    }
   ],
   "source": [
    "from sklearn.feature_extraction.text import TfidfVectorizer\n",
    "\n",
    "vectorzer = TfidfVectorizer()\n",
    "tfidf_matrix = vectorzer.fit_transform(processed_docs)\n",
    "tfidf_matrix.toarray()\n"
   ]
  },
  {
   "cell_type": "markdown",
   "metadata": {},
   "source": [
    "- Testing similarity between a sample query and a doc"
   ]
  },
  {
   "cell_type": "code",
   "execution_count": 13,
   "metadata": {},
   "outputs": [],
   "source": [
    "# Sample Query\n",
    "query = \"Sailing in Croatia is fun\"\n",
    "query_vec = vectorzer.transform([query])"
   ]
  },
  {
   "cell_type": "code",
   "execution_count": 14,
   "metadata": {},
   "outputs": [
    {
     "data": {
      "text/plain": [
       "array([[0.12351864],\n",
       "       [0.06954217],\n",
       "       [0.15076099],\n",
       "       [0.        ],\n",
       "       [0.07034705],\n",
       "       [0.06927436],\n",
       "       [0.06132724],\n",
       "       [0.15081601],\n",
       "       [0.0700388 ],\n",
       "       [0.05669406],\n",
       "       [0.        ],\n",
       "       [0.        ],\n",
       "       [0.        ],\n",
       "       [0.05971918],\n",
       "       [0.        ],\n",
       "       [0.        ],\n",
       "       [0.0629337 ],\n",
       "       [0.        ],\n",
       "       [0.16396662],\n",
       "       [0.06349221],\n",
       "       [0.06102138],\n",
       "       [0.        ],\n",
       "       [0.        ],\n",
       "       [0.07097358],\n",
       "       [0.05388465],\n",
       "       [0.        ],\n",
       "       [0.        ],\n",
       "       [0.        ],\n",
       "       [0.        ],\n",
       "       [0.06761335],\n",
       "       [0.07771692],\n",
       "       [0.0614908 ],\n",
       "       [0.12404875],\n",
       "       [0.        ],\n",
       "       [0.        ],\n",
       "       [0.        ],\n",
       "       [0.06732788],\n",
       "       [0.        ],\n",
       "       [0.38039951],\n",
       "       [0.0667768 ],\n",
       "       [0.        ],\n",
       "       [0.13112394],\n",
       "       [0.05139914],\n",
       "       [0.        ],\n",
       "       [0.07859039],\n",
       "       [0.06460484],\n",
       "       [0.06070517],\n",
       "       [0.1068939 ],\n",
       "       [0.10949353],\n",
       "       [0.08966042],\n",
       "       [0.05889416],\n",
       "       [0.14695908],\n",
       "       [0.        ],\n",
       "       [0.06867278],\n",
       "       [0.        ],\n",
       "       [0.        ],\n",
       "       [0.19783005],\n",
       "       [0.12980071],\n",
       "       [0.06672936],\n",
       "       [0.        ],\n",
       "       [0.        ],\n",
       "       [0.        ],\n",
       "       [0.        ],\n",
       "       [0.        ],\n",
       "       [0.        ],\n",
       "       [0.05152563],\n",
       "       [0.05935878],\n",
       "       [0.        ],\n",
       "       [0.07155077],\n",
       "       [0.        ],\n",
       "       [0.06118088],\n",
       "       [0.        ],\n",
       "       [0.05713899],\n",
       "       [0.0746971 ],\n",
       "       [0.        ],\n",
       "       [0.06391296],\n",
       "       [0.06996061],\n",
       "       [0.05817482],\n",
       "       [0.07416398],\n",
       "       [0.14134791],\n",
       "       [0.        ],\n",
       "       [0.05998432],\n",
       "       [0.0796296 ],\n",
       "       [0.        ],\n",
       "       [0.        ],\n",
       "       [0.13834709],\n",
       "       [0.15169944],\n",
       "       [0.1163229 ],\n",
       "       [0.        ],\n",
       "       [0.        ],\n",
       "       [0.06863818],\n",
       "       [0.        ],\n",
       "       [0.        ],\n",
       "       [0.13920657],\n",
       "       [0.        ],\n",
       "       [0.        ],\n",
       "       [0.0726286 ],\n",
       "       [0.05207237],\n",
       "       [0.        ],\n",
       "       [0.        ]])"
      ]
     },
     "execution_count": 14,
     "metadata": {},
     "output_type": "execute_result"
    }
   ],
   "source": [
    "# query_vec will show dimension error, hence we need to pass its TRANSPONSE to match the dimension\n",
    "\n",
    "results = np.dot(tfidf_matrix, query_vec.T)\n",
    "results.toarray()"
   ]
  },
  {
   "cell_type": "markdown",
   "metadata": {},
   "source": [
    "- Improvization and Improvement"
   ]
  },
  {
   "cell_type": "code",
   "execution_count": 15,
   "metadata": {},
   "outputs": [],
   "source": [
    "def search(query, vectorzer, tfidf_matrix):\n",
    "    query_vec = vectorzer.transform([query])\n",
    "    results = np.dot(tfidf_matrix, query_vec.T)\n",
    "    return results.toarray()"
   ]
  },
  {
   "cell_type": "code",
   "execution_count": 16,
   "metadata": {},
   "outputs": [
    {
     "name": "stdout",
     "output_type": "stream",
     "text": [
      "Score: 0.38039951114744464 \t Document: The island of Pag is famous for its cheese and nightlife, and is a fun stop for sailors.\n",
      "Score: 0.1978300452702373 \t Document: Croatia has beautiful islands perfect for sailing.\n",
      "Score: 0.16396662202567072 \t Document: The Dalmatian Coast is a famous region for sailing in Croatia.\n",
      "Score: 0.151699441620199 \t Document: The Kornati Islands National Park is a popular sailing destination in Croatia.\n",
      "Score: 0.1508160086738004 \t Document: The island of Cres is one of the largest in Croatia and a great destination for sailing.\n",
      "Score: 0.15076098993725762 \t Document: Sailing in Croatia offers stunning views of the Adriatic Sea.\n",
      "Score: 0.14695907785419013 \t Document: Sailing in Croatia is best enjoyed during the summer months.\n",
      "Score: 0.14134790752016774 \t Document: The best sailing routes in Croatia include Dubrovnik and Split.\n",
      "Score: 0.13920656570202813 \t Document: Sailing to the island of Vis allows you to experience a more remote part of Croatia.\n",
      "Score: 0.13834709467414658 \t Document: The waters around Croatia are known for being calm and clear, ideal for sailing.\n",
      "Score: 0.13112393861686558 \t Document: The city of Rovinj is a charming starting point for a sailing trip in Croatia.\n",
      "Score: 0.12980070914544678 \t Document: Sailing in Croatia allows you to explore hidden coves and bays.\n",
      "Score: 0.12404874699343901 \t Document: Sailing in Croatia often involves stopping at picturesque fishing villages.\n",
      "Score: 0.12351864016835476 \t Document: Sailing in Croatia often includes visiting UNESCO World Heritage sites.\n",
      "Score: 0.11632289716006139 \t Document: Sailing around the Brijuni Islands offers a glimpse of Croatia's natural beauty and wildlife.\n",
      "Score: 0.10949352857379675 \t Document: Sailing in Croatia provides opportunities to visit ancient fortresses and castles along the coast.\n",
      "Score: 0.10689390489589794 \t Document: Sailors in Croatia can explore over 1,200 islands.\n",
      "Score: 0.08966041935080402 \t Document: Croatia is famous for its beautiful coastline and crystal-clear waters.\n",
      "Score: 0.0796296022517532 \t Document: Croatia is known for its delicious seafood cuisine.\n",
      "Score: 0.07859038805546913 \t Document: Croatia has over a thousand islands, each with its unique charm.\n",
      "Score: 0.07771691501900593 \t Document: The island of Hvar is known for its vibrant nightlife and sailing opportunities.\n",
      "Score: 0.0746971024069402 \t Document: The city of Pula, with its Roman amphitheater, is a unique sailing destination.\n",
      "Score: 0.07416398237163112 \t Document: The city of Rijeka is an important cultural and historical sailing destination.\n",
      "Score: 0.07262859752009666 \t Document: Sailing around the island of Lastovo provides a more secluded experience.\n",
      "Score: 0.0715507690862314 \t Document: Sailing from Split to Dubrovnik offers breathtaking coastal scenery.\n",
      "Score: 0.07097358219986785 \t Document: Sailors in Croatia can visit ancient Roman ruins in Split.\n",
      "Score: 0.07034705167650612 \t Document: The island of Brač is known for its beautiful beaches and great sailing conditions.\n",
      "Score: 0.07003879875522619 \t Document: The island of Cres is one of the largest in Croatia and has a diverse wildlife.\n",
      "Score: 0.0699606105690048 \t Document: Croatia has a Mediterranean climate, making it a great destination year-round.\n",
      "Score: 0.06954217485919129 \t Document: The Makarska Riviera is known for its stunning coastline and sailing opportunities.\n",
      "Score: 0.06927436310851678 \t Document: Sailing to the island of Rab, known for its medieval old town, is a great experience.\n",
      "Score: 0.06867277568394338 \t Document: The medieval town of Rovinj is one of the most picturesque places in Croatia.\n",
      "Score: 0.0686381755437889 \t Document: Sailing to the island of Vis provides access to the famous Blue Cave.\n",
      "Score: 0.0676133535916443 \t Document: Sailing to the island of Lošinj, known for its health tourism, is a relaxing experience.\n",
      "Score: 0.06732788209024872 \t Document: Sailing around the island of Mljet offers a peaceful and scenic experience.\n",
      "Score: 0.06677680254618454 \t Document: The island of Lastovo is one of Croatia's most remote and tranquil destinations.\n",
      "Score: 0.06672936417816117 \t Document: The city of Rijeka is an important cultural and economic center in Croatia.\n",
      "Score: 0.06460483804364094 \t Document: Croatia's Adriatic coast is dotted with charming fishing villages.\n",
      "Score: 0.06391295994297053 \t Document: Sailors in Croatia can enjoy local wines at many coastal vineyards.\n",
      "Score: 0.06349221214030933 \t Document: The Diocletian's Palace in Split is one of the most famous Roman ruins in Croatia.\n",
      "Score: 0.06293370015470225 \t Document: Sailors can enjoy fresh seafood at many coastal restaurants in Croatia.\n",
      "Score: 0.061490799232967 \t Document: The island of Korčula is believed to be the birthplace of Marco Polo and is a popular sailing destination.\n",
      "Score: 0.06132724347937296 \t Document: The Pakleni Islands near Hvar are a popular spot for sailing yachts.\n",
      "Score: 0.06118087547116881 \t Document: The city of Hvar is one of the sunniest places in Europe and a popular sailing hub.\n",
      "Score: 0.061021383837986366 \t Document: The island of Dugi Otok is known for its dramatic cliffs and beautiful sailing waters.\n",
      "Score: 0.060705168816866266 \t Document: Sailing to the island of Šolta offers a quiet escape from the more touristy areas.\n",
      "Score: 0.05998431597019592 \t Document: Sailing to the Elaphiti Islands offers a mix of natural beauty and cultural sites.\n",
      "Score: 0.0597191789497312 \t Document: Croatia has a rich history dating back to the Roman Empire.\n",
      "Score: 0.05935878376623175 \t Document: Sailing around the island of Murter gives access to the Kornati Islands National Park.\n",
      "Score: 0.058894162308270125 \t Document: The island of Krk is accessible by bridge and is a popular starting point for sailing trips.\n",
      "Score: 0.058174824656386105 \t Document: Croatia has a diverse cultural heritage, with influences from Italy, Hungary, and Austria.\n",
      "Score: 0.05713898745202983 \t Document: The city of Osijek is located in the eastern part of Croatia and is known for its Baroque style.\n",
      "Score: 0.0566940619140694 \t Document: The city of Zagreb is the capital of Croatia and offers a mix of modern and historic attractions.\n",
      "Score: 0.05388465274422648 \t Document: The city of Kotor, just across the border in Montenegro, is a popular extension for Croatian sailing trips.\n",
      "Score: 0.05207237086600275 \t Document: Croatia's wine regions produce some excellent wines, especially in Istria and Dalmatia.\n",
      "Score: 0.05152562968542228 \t Document: The beaches in Croatia are among the best in Europe, with many receiving Blue Flag status.\n",
      "Score: 0.051399142487176364 \t Document: Croatia's national parks, like Krka and Plitvice, are ideal for hiking and nature lovers.\n",
      "Score: 0.0 \t Document: The city of Sibenik is home to the impressive St. James's Cathedral, a UNESCO World Heritage site.\n",
      "Score: 0.0 \t Document: Sailors can experience the traditional Dalmatian way of life in many coastal villages.\n",
      "Score: 0.0 \t Document: The city of Knin is known for its historic fortress and beautiful scenery.\n",
      "Score: 0.0 \t Document: The island of Krk is the largest island in the Adriatic Sea.\n",
      "Score: 0.0 \t Document: The island of Hvar is a popular destination for celebrities and high-end travelers.\n",
      "Score: 0.0 \t Document: The city of Varazdin is known for its baroque buildings and vibrant cultural scene.\n",
      "Score: 0.0 \t Document: The coastal town of Senj is known for its carnival and Nehaj Fortress.\n",
      "Score: 0.0 \t Document: The island of Rab is famous for its medieval old town and stunning beaches.\n",
      "Score: 0.0 \t Document: The island of Mljet is home to a national park and is ideal for nature lovers.\n",
      "Score: 0.0 \t Document: The island of Korcula is believed to be the birthplace of Marco Polo.\n",
      "Score: 0.0 \t Document: The town of Motovun in Istria is famous for its film festival.\n",
      "Score: 0.0 \t Document: The city of Nin is known for its ancient salt pans and historic church.\n",
      "Score: 0.0 \t Document: The city of Vukovar is known for its role in the Croatian War of Independence.\n",
      "Score: 0.0 \t Document: The city of Opatija is known for its grand villas and seaside promenade.\n",
      "Score: 0.0 \t Document: The city of Porec is known for the Euphrasian Basilica, a UNESCO World Heritage site.\n",
      "Score: 0.0 \t Document: The island of Brac is home to the famous Zlatni Rat beach, known for its changing shape.\n",
      "Score: 0.0 \t Document: The Blue Cave on Biševo Island is a must-see for sailors.\n",
      "Score: 0.0 \t Document: Sailors can enjoy snorkeling in the clear waters of the Adriatic Sea.\n",
      "Score: 0.0 \t Document: The city of Zadar is famous for its sunsets, which sailors can enjoy from the sea.\n",
      "Score: 0.0 \t Document: The island of Pag is famous for its cheese, which is considered a delicacy.\n",
      "Score: 0.0 \t Document: The island of Losinj is famous for its health tourism and clean air.\n",
      "Score: 0.0 \t Document: The city of Dubrovnik, with its famous city walls, is a top destination for sailors.\n",
      "Score: 0.0 \t Document: The island of Mljet has a national park that is perfect for exploring by sailboat.\n",
      "Score: 0.0 \t Document: The Istrian Peninsula is famous for its truffles and gourmet food.\n",
      "Score: 0.0 \t Document: The town of Cavtat is a quieter alternative to nearby Dubrovnik.\n",
      "Score: 0.0 \t Document: The Peljesac Peninsula is known for its vineyards and wine production.\n",
      "Score: 0.0 \t Document: The Dubrovnik Summer Festival is a major cultural event featuring theater, music, and dance performances.\n",
      "Score: 0.0 \t Document: The city of Zadar is famous for its unique Sea Organ, an architectural sound art object.\n",
      "Score: 0.0 \t Document: The city of Trogir, with its historic architecture, is a great place to dock.\n",
      "Score: 0.0 \t Document: The Plitvice Lakes National Park is a UNESCO World Heritage site known for its stunning waterfalls and lakes.\n",
      "Score: 0.0 \t Document: The city of Dubrovnik is often called the 'Pearl of the Adriatic'.\n",
      "Score: 0.0 \t Document: The town of Trogir is a UNESCO World Heritage site known for its medieval architecture.\n",
      "Score: 0.0 \t Document: The Brijuni Islands are a national park and a former presidential retreat.\n",
      "Score: 0.0 \t Document: The ancient city of Pula is known for its well-preserved Roman amphitheater.\n",
      "Score: 0.0 \t Document: The city of Opatija is a historical seaside resort that welcomes sailors.\n",
      "Score: 0.0 \t Document: The island of Vis was a military base and was closed to tourism until the 1990s.\n",
      "Score: 0.0 \t Document: The city of Split is a major port and gateway to the Dalmatian islands.\n",
      "Score: 0.0 \t Document: The city of Buzet in Istria is known as the 'City of Truffles'.\n",
      "Score: 0.0 \t Document: The city of Karlovac is known for its parks and the rivers that flow through it.\n",
      "Score: 0.0 \t Document: The city of Šibenik is a UNESCO World Heritage site and a great stop for sailors.\n",
      "Score: 0.0 \t Document: The town of Samobor is famous for its traditional cream cake called 'kremsnita'.\n",
      "Score: 0.0 \t Document: Many sailors start their Croatian adventure from the city of Zadar.\n",
      "Score: 0.0 \t Document: The coastal town of Makarska is known for its beautiful beaches and lively nightlife.\n"
     ]
    }
   ],
   "source": [
    "# SORTING and DISPLAYING\n",
    "\n",
    "results = search(query, vectorzer, tfidf_matrix)\n",
    "\n",
    "results = sorted(enumerate(results), key=lambda x: x[1][0], reverse=True)\n",
    "\n",
    "for idx, score in results:\n",
    "    print(f\"Score: {score[0]} \\t Document: {documents[idx]}\")"
   ]
  },
  {
   "cell_type": "markdown",
   "metadata": {},
   "source": [
    "<hr>\n",
    "\n",
    "### Boolean Search"
   ]
  },
  {
   "cell_type": "markdown",
   "metadata": {},
   "source": [
    "- We need to modify `process_text()` beacause as a part of the stopwords removal. it will remove *and*, *or*, and *not*."
   ]
  },
  {
   "cell_type": "code",
   "execution_count": 32,
   "metadata": {},
   "outputs": [],
   "source": [
    "def process_text(text):\n",
    "    processed_text = text.lower()\n",
    "    processed_text = nltk.word_tokenize(processed_text)\n",
    "    processed_text = [word for word in processed_text if word.isalnum()]\n",
    "\n",
    "    # WE ADD EXCEPTIONS HERE\n",
    "    stopwords = set(nltk.corpus.stopwords.words('english')) - {'and', 'or', 'not'}\n",
    "\n",
    "    processed_text = [word for word in processed_text if word not in stopwords]\n",
    "\n",
    "    return processed_text"
   ]
  },
  {
   "cell_type": "code",
   "execution_count": 33,
   "metadata": {},
   "outputs": [],
   "source": [
    "def boolean_search(query, documents):\n",
    "    query_tokens = process_text(query)\n",
    "\n",
    "    results = []\n",
    "    for doc_id, doc in enumerate(documents):\n",
    "        doc_tokens = set(process_text(doc))         # will give a dictionary\n",
    "        include_doc = False\n",
    "\n",
    "        for i, token in enumerate(query_tokens):\n",
    "            # Handling AND operator\n",
    "            if token == \"and\" and i + 1 < len(query_tokens):        # the second condition ensures we have a token after 'and'\n",
    "                # If AND is found, check  if the next token is in the document\n",
    "                include_doc = include_doc and (query_tokens[i+1] in doc_tokens)\n",
    "            # Handling OR operator\n",
    "            elif token == \"or\" and i + 1 < len(query_tokens):\n",
    "                # If OR is found, check if either of the next tokens is in the document\n",
    "                include_doc = include_doc or (query_tokens[i+1] in doc_tokens)\n",
    "            # Handling NOT operator\n",
    "            elif token == \"not\" and i + 1 < len(query_tokens):\n",
    "                # If NOT is found, exclude the document if the next token is in the document\n",
    "                if query_tokens[i+1] in doc_tokens:\n",
    "                    include_doc = False\n",
    "                    break\n",
    "            \n",
    "            else:\n",
    "                # For Normal tokens, check if document should be included\n",
    "                include_doc = token in doc_tokens or include_doc\n",
    "        \n",
    "        if include_doc:\n",
    "            results.append((doc_id, doc))\n",
    "        \n",
    "    return results"
   ]
  },
  {
   "cell_type": "markdown",
   "metadata": {},
   "source": [
    "- Sample Search Example - no docs should have 'Sailing' or 'Croatia'"
   ]
  },
  {
   "cell_type": "code",
   "execution_count": 34,
   "metadata": {},
   "outputs": [
    {
     "name": "stdout",
     "output_type": "stream",
     "text": [
      "Document ID: 1, Document: The Makarska Riviera is known for its stunning coastline and sailing opportunities.\n",
      "Document ID: 4, Document: The island of Brač is known for its beautiful beaches and great sailing conditions.\n",
      "Document ID: 5, Document: Sailing to the island of Rab, known for its medieval old town, is a great experience.\n",
      "Document ID: 6, Document: The Pakleni Islands near Hvar are a popular spot for sailing yachts.\n",
      "Document ID: 20, Document: The island of Dugi Otok is known for its dramatic cliffs and beautiful sailing waters.\n",
      "Document ID: 24, Document: The city of Kotor, just across the border in Montenegro, is a popular extension for Croatian sailing trips.\n",
      "Document ID: 29, Document: Sailing to the island of Lošinj, known for its health tourism, is a relaxing experience.\n",
      "Document ID: 30, Document: The island of Hvar is known for its vibrant nightlife and sailing opportunities.\n",
      "Document ID: 31, Document: The island of Korčula is believed to be the birthplace of Marco Polo and is a popular sailing destination.\n",
      "Document ID: 36, Document: Sailing around the island of Mljet offers a peaceful and scenic experience.\n",
      "Document ID: 46, Document: Sailing to the island of Šolta offers a quiet escape from the more touristy areas.\n",
      "Document ID: 50, Document: The island of Krk is accessible by bridge and is a popular starting point for sailing trips.\n",
      "Document ID: 66, Document: Sailing around the island of Murter gives access to the Kornati Islands National Park.\n",
      "Document ID: 68, Document: Sailing from Split to Dubrovnik offers breathtaking coastal scenery.\n",
      "Document ID: 70, Document: The city of Hvar is one of the sunniest places in Europe and a popular sailing hub.\n",
      "Document ID: 73, Document: The city of Pula, with its Roman amphitheater, is a unique sailing destination.\n",
      "Document ID: 78, Document: The city of Rijeka is an important cultural and historical sailing destination.\n",
      "Document ID: 81, Document: Sailing to the Elaphiti Islands offers a mix of natural beauty and cultural sites.\n",
      "Document ID: 90, Document: Sailing to the island of Vis provides access to the famous Blue Cave.\n",
      "Document ID: 96, Document: Sailing around the island of Lastovo provides a more secluded experience.\n"
     ]
    }
   ],
   "source": [
    "query = \"Sailing not Croatia\"\n",
    "\n",
    "boolean_results = boolean_search(query, documents)\n",
    "\n",
    "for doc_id, doc in boolean_results:\n",
    "    print(\"Document ID: {}, Document: {}\".format(doc_id, doc))"
   ]
  },
  {
   "cell_type": "markdown",
   "metadata": {},
   "source": [
    "<hr>\n",
    "\n",
    "### Probabilistic Retrieval Model"
   ]
  },
  {
   "cell_type": "markdown",
   "metadata": {},
   "source": [
    "- We need an external library"
   ]
  },
  {
   "cell_type": "code",
   "execution_count": 36,
   "metadata": {},
   "outputs": [],
   "source": [
    "# !pip install rank_bm25\n",
    "\n",
    "from rank_bm25 import BM25Okapi"
   ]
  },
  {
   "cell_type": "code",
   "execution_count": 38,
   "metadata": {},
   "outputs": [
    {
     "name": "stdout",
     "output_type": "stream",
     "text": [
      "sailing croatia often includes visiting unesco world heritage sites\n"
     ]
    }
   ],
   "source": [
    "print(processed_docs[0])"
   ]
  },
  {
   "cell_type": "markdown",
   "metadata": {},
   "source": [
    "- Tokenize every cleaned Doument"
   ]
  },
  {
   "cell_type": "code",
   "execution_count": 39,
   "metadata": {},
   "outputs": [
    {
     "data": {
      "text/plain": [
       "['sailing',\n",
       " 'croatia',\n",
       " 'often',\n",
       " 'includes',\n",
       " 'visiting',\n",
       " 'unesco',\n",
       " 'world',\n",
       " 'heritage',\n",
       " 'sites']"
      ]
     },
     "execution_count": 39,
     "metadata": {},
     "output_type": "execute_result"
    }
   ],
   "source": [
    "tokenized_docs = [process_text(doc) for doc in documents]\n",
    "\n",
    "tokenized_docs[0]"
   ]
  },
  {
   "cell_type": "markdown",
   "metadata": {},
   "source": [
    "- Initialize the Model"
   ]
  },
  {
   "cell_type": "code",
   "execution_count": 40,
   "metadata": {},
   "outputs": [],
   "source": [
    "model = BM25Okapi(tokenized_docs)"
   ]
  },
  {
   "cell_type": "markdown",
   "metadata": {},
   "source": [
    "-  Define the probabilistic function"
   ]
  },
  {
   "cell_type": "code",
   "execution_count": 42,
   "metadata": {},
   "outputs": [],
   "source": [
    "def bm25_search(query, model):\n",
    "    query_tokens = process_text(query)\n",
    "    docs_scores = model.get_scores(query_tokens)\n",
    "    return docs_scores"
   ]
  },
  {
   "cell_type": "markdown",
   "metadata": {},
   "source": [
    "- Apply the Model"
   ]
  },
  {
   "cell_type": "code",
   "execution_count": 47,
   "metadata": {},
   "outputs": [
    {
     "data": {
      "text/plain": [
       "array([55, 47, 56, 82, 44, 49, 76, 18, 51, 45,  2, 13, 53, 23, 75, 79, 86,\n",
       "       41, 58, 39, 32, 19, 16, 93,  8, 57,  7,  0, 77, 85, 97, 72, 65,  9,\n",
       "       87, 48, 42, 25, 26, 24, 91, 27, 28, 89, 29, 22, 21, 20, 90, 71, 15,\n",
       "       17, 92, 31, 14, 94, 12, 11, 10, 95, 96,  6,  5,  4,  3,  1, 30, 35,\n",
       "       88, 33, 69, 68, 67, 66, 64, 63, 62, 61, 60, 59, 73, 74, 54, 78, 52,\n",
       "       80, 50, 98, 81, 46, 83, 84, 43, 40, 38, 37, 36, 70, 34, 99],\n",
       "      dtype=int64)"
      ]
     },
     "execution_count": 47,
     "metadata": {},
     "output_type": "execute_result"
    }
   ],
   "source": [
    "query = \"top 10 things to do in Croatia\"\n",
    "\n",
    "bm25_results = bm25_search(query, model)\n",
    "\n",
    "# SORT AND DISPLAY THE RESULTS\n",
    "sorted_bm25_results = np.argsort(bm25_results)[::-1]\n",
    "sorted_bm25_results"
   ]
  },
  {
   "cell_type": "code",
   "execution_count": 49,
   "metadata": {},
   "outputs": [
    {
     "name": "stdout",
     "output_type": "stream",
     "text": [
      "SCORE: 4.206 --> Document : The city of Dubrovnik, with its famous city walls, is a top destination for sailors.\n",
      "SCORE: 0.736 --> Document : Sailors in Croatia can explore over 1,200 islands.\n",
      "SCORE: 0.686 --> Document : Croatia has beautiful islands perfect for sailing.\n",
      "SCORE: 0.686 --> Document : Croatia is known for its delicious seafood cuisine.\n",
      "SCORE: 0.686 --> Document : Croatia has over a thousand islands, each with its unique charm.\n",
      "SCORE: 0.643 --> Document : Croatia is famous for its beautiful coastline and crystal-clear waters.\n",
      "SCORE: 0.643 --> Document : Croatia has a Mediterranean climate, making it a great destination year-round.\n",
      "SCORE: 0.643 --> Document : The Dalmatian Coast is a famous region for sailing in Croatia.\n",
      "SCORE: 0.643 --> Document : Sailing in Croatia is best enjoyed during the summer months.\n",
      "SCORE: 0.605 --> Document : Croatia's Adriatic coast is dotted with charming fishing villages.\n",
      "SCORE: 0.605 --> Document : Sailing in Croatia offers stunning views of the Adriatic Sea.\n",
      "SCORE: 0.605 --> Document : Croatia has a rich history dating back to the Roman Empire.\n",
      "SCORE: 0.605 --> Document : The medieval town of Rovinj is one of the most picturesque places in Croatia.\n",
      "SCORE: 0.605 --> Document : Sailors in Croatia can visit ancient Roman ruins in Split.\n",
      "SCORE: 0.571 --> Document : Sailors in Croatia can enjoy local wines at many coastal vineyards.\n",
      "SCORE: 0.571 --> Document : The best sailing routes in Croatia include Dubrovnik and Split.\n",
      "SCORE: 0.571 --> Document : The Kornati Islands National Park is a popular sailing destination in Croatia.\n",
      "SCORE: 0.571 --> Document : The city of Rovinj is a charming starting point for a sailing trip in Croatia.\n",
      "SCORE: 0.571 --> Document : The city of Rijeka is an important cultural and economic center in Croatia.\n",
      "SCORE: 0.571 --> Document : The island of Lastovo is one of Croatia's most remote and tranquil destinations.\n",
      "SCORE: 0.571 --> Document : Sailing in Croatia often involves stopping at picturesque fishing villages.\n",
      "SCORE: 0.571 --> Document : The Diocletian's Palace in Split is one of the most famous Roman ruins in Croatia.\n",
      "SCORE: 0.571 --> Document : Sailors can enjoy fresh seafood at many coastal restaurants in Croatia.\n",
      "SCORE: 0.571 --> Document : Sailing to the island of Vis allows you to experience a more remote part of Croatia.\n",
      "SCORE: 0.571 --> Document : The island of Cres is one of the largest in Croatia and has a diverse wildlife.\n",
      "SCORE: 0.571 --> Document : Sailing in Croatia allows you to explore hidden coves and bays.\n",
      "SCORE: 0.541 --> Document : The island of Cres is one of the largest in Croatia and a great destination for sailing.\n",
      "SCORE: 0.541 --> Document : Sailing in Croatia often includes visiting UNESCO World Heritage sites.\n",
      "SCORE: 0.541 --> Document : Croatia has a diverse cultural heritage, with influences from Italy, Hungary, and Austria.\n",
      "SCORE: 0.541 --> Document : The waters around Croatia are known for being calm and clear, ideal for sailing.\n",
      "SCORE: 0.513 --> Document : Croatia's wine regions produce some excellent wines, especially in Istria and Dalmatia.\n",
      "SCORE: 0.513 --> Document : The city of Osijek is located in the eastern part of Croatia and is known for its Baroque style.\n",
      "SCORE: 0.513 --> Document : The beaches in Croatia are among the best in Europe, with many receiving Blue Flag status.\n",
      "SCORE: 0.489 --> Document : The city of Zagreb is the capital of Croatia and offers a mix of modern and historic attractions.\n",
      "SCORE: 0.489 --> Document : Sailing around the Brijuni Islands offers a glimpse of Croatia's natural beauty and wildlife.\n",
      "SCORE: 0.489 --> Document : Sailing in Croatia provides opportunities to visit ancient fortresses and castles along the coast.\n",
      "SCORE: 0.466 --> Document : Croatia's national parks, like Krka and Plitvice, are ideal for hiking and nature lovers.\n",
      "SCORE: 0.000 --> Document : The island of Korcula is believed to be the birthplace of Marco Polo.\n",
      "SCORE: 0.000 --> Document : The town of Motovun in Istria is famous for its film festival.\n",
      "SCORE: 0.000 --> Document : The city of Kotor, just across the border in Montenegro, is a popular extension for Croatian sailing trips.\n",
      "SCORE: 0.000 --> Document : The city of Buzet in Istria is known as the 'City of Truffles'.\n",
      "SCORE: 0.000 --> Document : The city of Nin is known for its ancient salt pans and historic church.\n",
      "SCORE: 0.000 --> Document : The city of Vukovar is known for its role in the Croatian War of Independence.\n",
      "SCORE: 0.000 --> Document : The city of Split is a major port and gateway to the Dalmatian islands.\n",
      "SCORE: 0.000 --> Document : Sailing to the island of Lošinj, known for its health tourism, is a relaxing experience.\n",
      "SCORE: 0.000 --> Document : The island of Mljet is home to a national park and is ideal for nature lovers.\n",
      "SCORE: 0.000 --> Document : The island of Rab is famous for its medieval old town and stunning beaches.\n",
      "SCORE: 0.000 --> Document : The island of Dugi Otok is known for its dramatic cliffs and beautiful sailing waters.\n",
      "SCORE: 0.000 --> Document : Sailing to the island of Vis provides access to the famous Blue Cave.\n",
      "SCORE: 0.000 --> Document : The city of Dubrovnik is often called the 'Pearl of the Adriatic'.\n",
      "SCORE: 0.000 --> Document : The city of Varazdin is known for its baroque buildings and vibrant cultural scene.\n",
      "SCORE: 0.000 --> Document : The coastal town of Senj is known for its carnival and Nehaj Fortress.\n",
      "SCORE: 0.000 --> Document : The city of Karlovac is known for its parks and the rivers that flow through it.\n",
      "SCORE: 0.000 --> Document : The island of Korčula is believed to be the birthplace of Marco Polo and is a popular sailing destination.\n",
      "SCORE: 0.000 --> Document : The island of Hvar is a popular destination for celebrities and high-end travelers.\n",
      "SCORE: 0.000 --> Document : The city of Šibenik is a UNESCO World Heritage site and a great stop for sailors.\n",
      "SCORE: 0.000 --> Document : The island of Krk is the largest island in the Adriatic Sea.\n",
      "SCORE: 0.000 --> Document : The city of Knin is known for its historic fortress and beautiful scenery.\n",
      "SCORE: 0.000 --> Document : Sailors can experience the traditional Dalmatian way of life in many coastal villages.\n",
      "SCORE: 0.000 --> Document : The town of Samobor is famous for its traditional cream cake called 'kremsnita'.\n",
      "SCORE: 0.000 --> Document : Sailing around the island of Lastovo provides a more secluded experience.\n",
      "SCORE: 0.000 --> Document : The Pakleni Islands near Hvar are a popular spot for sailing yachts.\n",
      "SCORE: 0.000 --> Document : Sailing to the island of Rab, known for its medieval old town, is a great experience.\n",
      "SCORE: 0.000 --> Document : The island of Brač is known for its beautiful beaches and great sailing conditions.\n",
      "SCORE: 0.000 --> Document : The city of Sibenik is home to the impressive St. James's Cathedral, a UNESCO World Heritage site.\n",
      "SCORE: 0.000 --> Document : The Makarska Riviera is known for its stunning coastline and sailing opportunities.\n",
      "SCORE: 0.000 --> Document : The island of Hvar is known for its vibrant nightlife and sailing opportunities.\n",
      "SCORE: 0.000 --> Document : The island of Brac is home to the famous Zlatni Rat beach, known for its changing shape.\n",
      "SCORE: 0.000 --> Document : The island of Vis was a military base and was closed to tourism until the 1990s.\n",
      "SCORE: 0.000 --> Document : The city of Opatija is known for its grand villas and seaside promenade.\n",
      "SCORE: 0.000 --> Document : The Plitvice Lakes National Park is a UNESCO World Heritage site known for its stunning waterfalls and lakes.\n",
      "SCORE: 0.000 --> Document : Sailing from Split to Dubrovnik offers breathtaking coastal scenery.\n",
      "SCORE: 0.000 --> Document : The city of Trogir, with its historic architecture, is a great place to dock.\n",
      "SCORE: 0.000 --> Document : Sailing around the island of Murter gives access to the Kornati Islands National Park.\n",
      "SCORE: 0.000 --> Document : The city of Zadar is famous for its unique Sea Organ, an architectural sound art object.\n",
      "SCORE: 0.000 --> Document : The Dubrovnik Summer Festival is a major cultural event featuring theater, music, and dance performances.\n",
      "SCORE: 0.000 --> Document : The Peljesac Peninsula is known for its vineyards and wine production.\n",
      "SCORE: 0.000 --> Document : The town of Cavtat is a quieter alternative to nearby Dubrovnik.\n",
      "SCORE: 0.000 --> Document : The Istrian Peninsula is famous for its truffles and gourmet food.\n",
      "SCORE: 0.000 --> Document : The island of Mljet has a national park that is perfect for exploring by sailboat.\n",
      "SCORE: 0.000 --> Document : The city of Pula, with its Roman amphitheater, is a unique sailing destination.\n",
      "SCORE: 0.000 --> Document : The town of Trogir is a UNESCO World Heritage site known for its medieval architecture.\n",
      "SCORE: 0.000 --> Document : The island of Losinj is famous for its health tourism and clean air.\n",
      "SCORE: 0.000 --> Document : The city of Rijeka is an important cultural and historical sailing destination.\n",
      "SCORE: 0.000 --> Document : The island of Pag is famous for its cheese, which is considered a delicacy.\n",
      "SCORE: 0.000 --> Document : The Brijuni Islands are a national park and a former presidential retreat.\n",
      "SCORE: 0.000 --> Document : The island of Krk is accessible by bridge and is a popular starting point for sailing trips.\n",
      "SCORE: 0.000 --> Document : Many sailors start their Croatian adventure from the city of Zadar.\n",
      "SCORE: 0.000 --> Document : Sailing to the Elaphiti Islands offers a mix of natural beauty and cultural sites.\n",
      "SCORE: 0.000 --> Document : Sailing to the island of Šolta offers a quiet escape from the more touristy areas.\n",
      "SCORE: 0.000 --> Document : The ancient city of Pula is known for its well-preserved Roman amphitheater.\n",
      "SCORE: 0.000 --> Document : The city of Opatija is a historical seaside resort that welcomes sailors.\n",
      "SCORE: 0.000 --> Document : The city of Zadar is famous for its sunsets, which sailors can enjoy from the sea.\n",
      "SCORE: 0.000 --> Document : Sailors can enjoy snorkeling in the clear waters of the Adriatic Sea.\n",
      "SCORE: 0.000 --> Document : The island of Pag is famous for its cheese and nightlife, and is a fun stop for sailors.\n",
      "SCORE: 0.000 --> Document : The Blue Cave on Biševo Island is a must-see for sailors.\n",
      "SCORE: 0.000 --> Document : Sailing around the island of Mljet offers a peaceful and scenic experience.\n",
      "SCORE: 0.000 --> Document : The city of Hvar is one of the sunniest places in Europe and a popular sailing hub.\n",
      "SCORE: 0.000 --> Document : The city of Porec is known for the Euphrasian Basilica, a UNESCO World Heritage site.\n",
      "SCORE: 0.000 --> Document : The coastal town of Makarska is known for its beautiful beaches and lively nightlife.\n"
     ]
    }
   ],
   "source": [
    "for idx in sorted_bm25_results:\n",
    "    print(\"SCORE: {:.3f} --> Document : {}\".format(bm25_results[idx], documents[idx]))"
   ]
  },
  {
   "cell_type": "markdown",
   "metadata": {},
   "source": [
    "<hr>"
   ]
  }
 ],
 "metadata": {
  "kernelspec": {
   "display_name": "Python 3",
   "language": "python",
   "name": "python3"
  },
  "language_info": {
   "codemirror_mode": {
    "name": "ipython",
    "version": 3
   },
   "file_extension": ".py",
   "mimetype": "text/x-python",
   "name": "python",
   "nbconvert_exporter": "python",
   "pygments_lexer": "ipython3",
   "version": "3.10.10"
  }
 },
 "nbformat": 4,
 "nbformat_minor": 2
}
