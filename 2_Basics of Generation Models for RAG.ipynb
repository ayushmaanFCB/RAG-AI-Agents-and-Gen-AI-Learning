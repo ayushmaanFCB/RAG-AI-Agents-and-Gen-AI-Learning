{
 "cells": [
  {
   "cell_type": "markdown",
   "id": "fbdd7d02",
   "metadata": {},
   "source": [
    "# Basics of Generation Models for RAG"
   ]
  }
 ],
 "metadata": {
  "language_info": {
   "name": "python"
  }
 },
 "nbformat": 4,
 "nbformat_minor": 5
}
